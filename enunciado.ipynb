{
 "cells": [
  {
   "cell_type": "markdown",
   "metadata": {
    "collapsed": true,
    "pycharm": {
     "name": "#%% md\n"
    }
   },
   "source": [
    "# Enunciado\n",
    "Implementar y analizar el comportamiento del enfriamiento simulado para alcanzar\n",
    "la solución óptima del problema que se describe a continuación:\n",
    "\n",
    "Obtener el mínimo global de la siguiente función:\n",
    "\n",
    "$$\n",
    "f(x) = \\dfrac{cos(x)}{x}, x \\in [0,30]\n",
    "$$\n",
    "\n",
    "Mostrar gráficamente la evolución de los valores de $x$ y $f$ considerados a lo largo de\n",
    "las iteraciones de la metaheurística.\n",
    "\n"
   ]
  },
  {
   "cell_type": "markdown",
   "metadata": {},
   "source": [
    "##### La siguiente celda muestra los imports necesarios para poder ejecutar el agoritmo"
   ]
  },
  {
   "cell_type": "code",
   "execution_count": 11,
   "metadata": {
    "pycharm": {
     "is_executing": false,
     "name": "#%%\n"
    }
   },
   "outputs": [
    {
     "name": "stdout",
     "output_type": "stream",
     "text": [
      "Se han cargado todas las librerias necesaias\n"
     ]
    }
   ],
   "source": [
    "import funciones as fn\n",
    "import numpy.random as rnd\n",
    "import numpy as np\n",
    "\n",
    "print(\"Se han cargado todas las librerias necesaias\")"
   ]
  },
  {
   "cell_type": "markdown",
   "metadata": {},
   "source": [
    "### Seleccionar las características del algoritmo"
   ]
  },
  {
   "cell_type": "markdown",
   "metadata": {},
   "source": [
    "#### Seleccionar la función a optimizar, definir el intervalo."
   ]
  },
  {
   "cell_type": "code",
   "execution_count": 12,
   "metadata": {
    "pycharm": {
     "name": "#%%\n"
    }
   },
   "outputs": [],
   "source": [
    "INTERVALO = (0,30)\n",
    "FUNCION  = fn.coseno"
   ]
  },
  {
   "cell_type": "markdown",
   "metadata": {},
   "source": [
    "### Funciones del algoritmo"
   ]
  },
  {
   "cell_type": "markdown",
   "metadata": {},
   "source": [
    "Obtener un vecino a una solución"
   ]
  },
  {
   "cell_type": "code",
   "execution_count": 5,
   "metadata": {},
   "outputs": [],
   "source": [
    "def vecindad(x, movimiento=1):\n",
    "    vecindad = (INTERVALO[1] - INTERVALO[0]) * movimiento / 10\n",
    "    delta = (-vecindad/2.) + vecindad * rnd.random_sample()\n",
    "    return fn.ajustar_valor(delta+x)"
   ]
  },
  {
   "cell_type": "markdown",
   "metadata": {},
   "source": [
    "Probabilidad con la que se va a aceptar una solución"
   ]
  },
  {
   "cell_type": "code",
   "execution_count": 14,
   "metadata": {},
   "outputs": [],
   "source": [
    "def probabilidad_aceptacion(coste, coste_nuevo, temperatura):\n",
    "    # si mejora la solución actual se acepta siempre\n",
    "    if coste_nuevo < coste:\n",
    "        return 1\n",
    "    # en caso contrario, la aceptación dependerá de la temperatura,\n",
    "    # a medida que avanza el problema menor temperatura, menor probabilidad de aceptación\n",
    "    else:\n",
    "        probabilidad = np.exp(- (coste_nuevo - coste) / temperatura)\n",
    "        return probabilidad"
   ]
  },
  {
   "cell_type": "markdown",
   "metadata": {},
   "source": [
    "Variación de la temperatura a medida que avanza el algoritmo"
   ]
  },
  {
   "cell_type": "code",
   "execution_count": 7,
   "metadata": {},
   "outputs": [],
   "source": [
    "def temperature(estado):\n",
    "    return max(0.01, min(1, 1 - estado))"
   ]
  },
  {
   "cell_type": "markdown",
   "metadata": {},
   "source": [
    "### Algoritmo"
   ]
  },
  {
   "cell_type": "markdown",
   "metadata": {},
   "source": [
    "Algoritmo en pseudocódigo aquí"
   ]
  },
  {
   "cell_type": "code",
   "execution_count": 9,
   "metadata": {},
   "outputs": [],
   "source": [
    "def annealing(funcion,\n",
    "              vecindad,\n",
    "              solucion_inic\n",
    "              probabilidad_aceptacion,\n",
    "              temperatura,\n",
    "              max_iteraciones=1000,\n",
    "              informacion=1):\n",
    "    x = random_start() # cabiar por una solución \n",
    "    y = funcion(x)\n",
    "    valores_x, valores_y = [x], [y]\n",
    "    for iteracion in range(max_iteraciones):\n",
    "        estado = iteracion / float(max_iteraciones)\n",
    "        T = temperatura(estado)\n",
    "        x_vecina = vecindad(x, estado)\n",
    "        y_vecina = funcion(x_vecina)\n",
    "        if informacion >= 1:\n",
    "            print(\"Step #{:>2}/{:>2} : T = {:>4.3g}, state = {:>4.3g}, cost = {:>4.3g}, new_state = {:>4.3g}, new_cost = {:>4.3g} ...\".format(step, maxsteps, T, state, cost, new_state, new_cost))\n",
    "        if probabilidad_aceptacion(y, y_vecina, T) > rnd.random():\n",
    "            x,y = x_vecina, y_vecina\n",
    "            valores_x.append(x)\n",
    "            valores_y.append(y)\n",
    "    return x, funcion(x), valores_x, valores_y"
   ]
  },
  {
   "cell_type": "code",
   "execution_count": null,
   "metadata": {},
   "outputs": [],
   "source": []
  }
 ],
 "metadata": {
  "kernelspec": {
   "display_name": "Python 3",
   "language": "python",
   "name": "python3"
  },
  "language_info": {
   "codemirror_mode": {
    "name": "ipython",
    "version": 3
   },
   "file_extension": ".py",
   "mimetype": "text/x-python",
   "name": "python",
   "nbconvert_exporter": "python",
   "pygments_lexer": "ipython3",
   "version": "3.7.4"
  },
  "pycharm": {
   "stem_cell": {
    "cell_type": "raw",
    "metadata": {
     "collapsed": false
    },
    "source": []
   }
  }
 },
 "nbformat": 4,
 "nbformat_minor": 1
}
